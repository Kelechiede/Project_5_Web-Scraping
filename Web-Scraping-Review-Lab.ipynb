{
 "cells": [
  {
   "cell_type": "markdown",
   "metadata": {},
   "source": [
    "# 🕸️ Web Scraping Project – IBM Data Analyst Capstone\n",
    "\n",
    "This project demonstrates how to:\n",
    "- Download webpages\n",
    "- Scrape hyperlinks and images\n",
    "- Extract tabular data\n",
    "\n",
    "---"
   ]
  },
  {
   "cell_type": "markdown",
   "metadata": {},
   "source": [
    "# **Case Study: Web Scraping Lab**\n",
    "\n",
    "# Objectives\n",
    "After completing this lab we will be able to:\n",
    "\n",
    "<ul>\n",
    "<li>Download a webpage using requests module.</li>\n",
    "<li>Scrape all links from a webpage.</li>\n",
    "<li>Scrape all image URLs from a web page.</li>\n",
    "<li>Scrape data from html tables.</li>\n",
    "</ul>"
   ]
  },
  {
   "cell_type": "markdown",
   "metadata": {},
   "source": [
    "## Scrape www.ibm.com\n"
   ]
  },
  {
   "cell_type": "markdown",
   "metadata": {},
   "source": [
    "Import the required modules and functions\n"
   ]
  },
  {
   "cell_type": "code",
   "execution_count": 2,
   "metadata": {},
   "outputs": [],
   "source": [
    "from bs4 import BeautifulSoup # this module helps in web scrapping.\n",
    "import requests  # this module helps us to download a webpage"
   ]
  },
  {
   "cell_type": "markdown",
   "metadata": {},
   "source": [
    "Download the contents of the webpage\n"
   ]
  },
  {
   "cell_type": "code",
   "execution_count": 5,
   "metadata": {},
   "outputs": [],
   "source": [
    "url = \"http://www.ibm.com\""
   ]
  },
  {
   "cell_type": "code",
   "execution_count": 7,
   "metadata": {},
   "outputs": [],
   "source": [
    "# get the contents of the webpage in text format and store in a variable called data\n",
    "data  = requests.get(url).text "
   ]
  },
  {
   "cell_type": "markdown",
   "metadata": {},
   "source": [
    "Create a soup object using the class BeautifulSoup\n"
   ]
  },
  {
   "cell_type": "code",
   "execution_count": 10,
   "metadata": {},
   "outputs": [],
   "source": [
    "soup = BeautifulSoup(data,\"html.parser\")  # create a soup object using the variable 'data'"
   ]
  },
  {
   "cell_type": "markdown",
   "metadata": {},
   "source": [
    "Scrape all links\n"
   ]
  },
  {
   "cell_type": "code",
   "execution_count": 13,
   "metadata": {},
   "outputs": [
    {
     "name": "stdout",
     "output_type": "stream",
     "text": [
      "https://www.ibm.com/granite?lnk=hpad1us\n",
      "https://developer.ibm.com/technologies/artificial-intelligence?lnk=hpad2us\n",
      "https://www.ibm.com/products/watsonx-code-assistant?lnk=hpad3us\n",
      "https://www.ibm.com/watsonx/developer/?lnk=hpad4us\n",
      "https://www.ibm.com/thought-leadership/institute-business-value/report/ceo-generative-ai?lnk=hpab1us\n",
      "https://www.ibm.com/think/reports/ai-in-action?lnk=hpab2us\n",
      "https://www.ibm.com/artificial-intelligence/ai-ethics\n",
      "https://www.ibm.com/account/reg/signup?formid=news-urx-52954&lnk=hpab4us\n",
      "https://www.ibm.com/artificial-intelligence?lnk=hpfp1us\n",
      "https://www.ibm.com/hybrid-cloud?lnk=hpfp2us\n",
      "https://www.ibm.com/consulting?lnk=hpfp3us\n",
      "https://www.ft.com/partnercontent/ibm/how-smaller-industry-tailored-ai-models-can-offer-greater-benefits.html\n"
     ]
    }
   ],
   "source": [
    "for link in soup.find_all('a'):  # in html anchor/link is represented by the tag <a>\n",
    "    print(link.get('href'))"
   ]
  },
  {
   "cell_type": "markdown",
   "metadata": {},
   "source": [
    "Scrape  all images\n"
   ]
  },
  {
   "cell_type": "code",
   "execution_count": 16,
   "metadata": {},
   "outputs": [],
   "source": [
    "for link in soup.find_all('img'):# in html image is represented by the tag <img>\n",
    "    print(link.get('src'))"
   ]
  },
  {
   "cell_type": "markdown",
   "metadata": {},
   "source": [
    "## Scrape data from html tables\n"
   ]
  },
  {
   "cell_type": "code",
   "execution_count": 19,
   "metadata": {},
   "outputs": [],
   "source": [
    "#The below URL contains a html table with data about colors and color codes.\n",
    "URL = \"https://cf-courses-data.s3.us.cloud-object-storage.appdomain.cloud/IBM-DA0321EN-SkillsNetwork/labs/datasets/HTMLColorCodes.html\""
   ]
  },
  {
   "cell_type": "markdown",
   "metadata": {},
   "source": [
    "Before proceeding to scrape a website, you need to examine the contents, and the way data is organized on the website. Open the above URL in your browser and check how many rows and columns are there in the color table.\n"
   ]
  },
  {
   "cell_type": "code",
   "execution_count": 22,
   "metadata": {},
   "outputs": [],
   "source": [
    "# get the contents of the webpage in text format and store in a variable called data\n",
    "data  = requests.get(URL).text"
   ]
  },
  {
   "cell_type": "code",
   "execution_count": 40,
   "metadata": {},
   "outputs": [
    {
     "name": "stdout",
     "output_type": "stream",
     "text": [
      "<html>\n",
      " <body>\n",
      "  <h1>\n",
      "   Partital List  of HTML5 Supported Colors\n",
      "  </h1>\n",
      "  <table border=\"1\" class=\"main-table\">\n",
      "   <tr>\n",
      "    <td>\n",
      "     Number\n",
      "    </td>\n",
      "    <td>\n",
      "     Color\n",
      "    </td>\n",
      "    <td>\n",
      "     Color Name\n",
      "    </td>\n",
      "    <td>\n",
      "     Hex Code\n",
      "     <br/>\n",
      "     #RRGGBB\n",
      "    </td>\n",
      "    <td>\n",
      "     Decimal Code\n",
      "     <br/>\n",
      "     (R,G,B)\n",
      "    </td>\n",
      "   </tr>\n",
      "   <tr>\n",
      "    <td>\n",
      "     1\n",
      "    </td>\n",
      "    <td style=\"background:lightsalmon;\">\n",
      "    </td>\n",
      "    <td>\n",
      "     lightsalmon\n",
      "    </td>\n",
      "    <td>\n",
      "     #FFA07A\n",
      "    </td>\n",
      "  \n"
     ]
    }
   ],
   "source": [
    "soup = BeautifulSoup(data,\"html.parser\")\n",
    "print(soup.prettify()[:500])  # Preview first 500 characters of parsed HTML"
   ]
  },
  {
   "cell_type": "code",
   "execution_count": 26,
   "metadata": {},
   "outputs": [],
   "source": [
    "#find a html table in the web page\n",
    "table = soup.find('table') # in html table is represented by the tag <table>"
   ]
  },
  {
   "cell_type": "markdown",
   "metadata": {},
   "source": [
    "# Get all rows from the table\n"
   ]
  },
  {
   "cell_type": "code",
   "execution_count": 29,
   "metadata": {},
   "outputs": [
    {
     "name": "stdout",
     "output_type": "stream",
     "text": [
      "Color Name--->Hex Code#RRGGBB\n",
      "lightsalmon--->#FFA07A\n",
      "salmon--->#FA8072\n",
      "darksalmon--->#E9967A\n",
      "lightcoral--->#F08080\n",
      "coral--->#FF7F50\n",
      "tomato--->#FF6347\n",
      "orangered--->#FF4500\n",
      "gold--->#FFD700\n",
      "orange--->#FFA500\n",
      "darkorange--->#FF8C00\n",
      "lightyellow--->#FFFFE0\n",
      "lemonchiffon--->#FFFACD\n",
      "papayawhip--->#FFEFD5\n",
      "moccasin--->#FFE4B5\n",
      "peachpuff--->#FFDAB9\n",
      "palegoldenrod--->#EEE8AA\n",
      "khaki--->#F0E68C\n",
      "darkkhaki--->#BDB76B\n",
      "yellow--->#FFFF00\n",
      "lawngreen--->#7CFC00\n",
      "chartreuse--->#7FFF00\n",
      "limegreen--->#32CD32\n",
      "lime--->#00FF00\n",
      "forestgreen--->#228B22\n",
      "green--->#008000\n",
      "powderblue--->#B0E0E6\n",
      "lightblue--->#ADD8E6\n",
      "lightskyblue--->#87CEFA\n",
      "skyblue--->#87CEEB\n",
      "deepskyblue--->#00BFFF\n",
      "lightsteelblue--->#B0C4DE\n",
      "dodgerblue--->#1E90FF\n"
     ]
    }
   ],
   "source": [
    "for row in table.find_all('tr'): # in html table row is represented by the tag <tr>\n",
    "    # Get all columns in each row.\n",
    "    cols = row.find_all('td') # in html a column is represented by the tag <td>\n",
    "    color_name = cols[2].getText() # store the value in column 3 as color_name\n",
    "    color_code = cols[3].getText() # store the value in column 4 as color_code\n",
    "    print(\"{}--->{}\".format(color_name,color_code))"
   ]
  },
  {
   "cell_type": "code",
   "execution_count": null,
   "metadata": {},
   "outputs": [],
   "source": []
  },
  {
   "cell_type": "code",
   "execution_count": 52,
   "metadata": {},
   "outputs": [
    {
     "name": "stdout",
     "output_type": "stream",
     "text": [
      "Export completed: Data saved as CSV and Excel files inside 'data/' folder.\n"
     ]
    },
    {
     "data": {
      "text/html": [
       "<div>\n",
       "<style scoped>\n",
       "    .dataframe tbody tr th:only-of-type {\n",
       "        vertical-align: middle;\n",
       "    }\n",
       "\n",
       "    .dataframe tbody tr th {\n",
       "        vertical-align: top;\n",
       "    }\n",
       "\n",
       "    .dataframe thead th {\n",
       "        text-align: right;\n",
       "    }\n",
       "</style>\n",
       "<table border=\"1\" class=\"dataframe\">\n",
       "  <thead>\n",
       "    <tr style=\"text-align: right;\">\n",
       "      <th></th>\n",
       "      <th>Color Name</th>\n",
       "      <th>Hex Code</th>\n",
       "    </tr>\n",
       "  </thead>\n",
       "  <tbody>\n",
       "    <tr>\n",
       "      <th>0</th>\n",
       "      <td>lightsalmon</td>\n",
       "      <td>#FFA07A</td>\n",
       "    </tr>\n",
       "    <tr>\n",
       "      <th>1</th>\n",
       "      <td>salmon</td>\n",
       "      <td>#FA8072</td>\n",
       "    </tr>\n",
       "    <tr>\n",
       "      <th>2</th>\n",
       "      <td>darksalmon</td>\n",
       "      <td>#E9967A</td>\n",
       "    </tr>\n",
       "    <tr>\n",
       "      <th>3</th>\n",
       "      <td>lightcoral</td>\n",
       "      <td>#F08080</td>\n",
       "    </tr>\n",
       "    <tr>\n",
       "      <th>4</th>\n",
       "      <td>coral</td>\n",
       "      <td>#FF7F50</td>\n",
       "    </tr>\n",
       "    <tr>\n",
       "      <th>5</th>\n",
       "      <td>tomato</td>\n",
       "      <td>#FF6347</td>\n",
       "    </tr>\n",
       "    <tr>\n",
       "      <th>6</th>\n",
       "      <td>orangered</td>\n",
       "      <td>#FF4500</td>\n",
       "    </tr>\n",
       "    <tr>\n",
       "      <th>7</th>\n",
       "      <td>gold</td>\n",
       "      <td>#FFD700</td>\n",
       "    </tr>\n",
       "    <tr>\n",
       "      <th>8</th>\n",
       "      <td>orange</td>\n",
       "      <td>#FFA500</td>\n",
       "    </tr>\n",
       "    <tr>\n",
       "      <th>9</th>\n",
       "      <td>darkorange</td>\n",
       "      <td>#FF8C00</td>\n",
       "    </tr>\n",
       "    <tr>\n",
       "      <th>10</th>\n",
       "      <td>lightyellow</td>\n",
       "      <td>#FFFFE0</td>\n",
       "    </tr>\n",
       "    <tr>\n",
       "      <th>11</th>\n",
       "      <td>lemonchiffon</td>\n",
       "      <td>#FFFACD</td>\n",
       "    </tr>\n",
       "    <tr>\n",
       "      <th>12</th>\n",
       "      <td>papayawhip</td>\n",
       "      <td>#FFEFD5</td>\n",
       "    </tr>\n",
       "    <tr>\n",
       "      <th>13</th>\n",
       "      <td>moccasin</td>\n",
       "      <td>#FFE4B5</td>\n",
       "    </tr>\n",
       "    <tr>\n",
       "      <th>14</th>\n",
       "      <td>peachpuff</td>\n",
       "      <td>#FFDAB9</td>\n",
       "    </tr>\n",
       "    <tr>\n",
       "      <th>15</th>\n",
       "      <td>palegoldenrod</td>\n",
       "      <td>#EEE8AA</td>\n",
       "    </tr>\n",
       "    <tr>\n",
       "      <th>16</th>\n",
       "      <td>khaki</td>\n",
       "      <td>#F0E68C</td>\n",
       "    </tr>\n",
       "    <tr>\n",
       "      <th>17</th>\n",
       "      <td>darkkhaki</td>\n",
       "      <td>#BDB76B</td>\n",
       "    </tr>\n",
       "    <tr>\n",
       "      <th>18</th>\n",
       "      <td>yellow</td>\n",
       "      <td>#FFFF00</td>\n",
       "    </tr>\n",
       "    <tr>\n",
       "      <th>19</th>\n",
       "      <td>lawngreen</td>\n",
       "      <td>#7CFC00</td>\n",
       "    </tr>\n",
       "    <tr>\n",
       "      <th>20</th>\n",
       "      <td>chartreuse</td>\n",
       "      <td>#7FFF00</td>\n",
       "    </tr>\n",
       "    <tr>\n",
       "      <th>21</th>\n",
       "      <td>limegreen</td>\n",
       "      <td>#32CD32</td>\n",
       "    </tr>\n",
       "    <tr>\n",
       "      <th>22</th>\n",
       "      <td>lime</td>\n",
       "      <td>#00FF00</td>\n",
       "    </tr>\n",
       "    <tr>\n",
       "      <th>23</th>\n",
       "      <td>forestgreen</td>\n",
       "      <td>#228B22</td>\n",
       "    </tr>\n",
       "    <tr>\n",
       "      <th>24</th>\n",
       "      <td>green</td>\n",
       "      <td>#008000</td>\n",
       "    </tr>\n",
       "    <tr>\n",
       "      <th>25</th>\n",
       "      <td>powderblue</td>\n",
       "      <td>#B0E0E6</td>\n",
       "    </tr>\n",
       "    <tr>\n",
       "      <th>26</th>\n",
       "      <td>lightblue</td>\n",
       "      <td>#ADD8E6</td>\n",
       "    </tr>\n",
       "    <tr>\n",
       "      <th>27</th>\n",
       "      <td>lightskyblue</td>\n",
       "      <td>#87CEFA</td>\n",
       "    </tr>\n",
       "    <tr>\n",
       "      <th>28</th>\n",
       "      <td>skyblue</td>\n",
       "      <td>#87CEEB</td>\n",
       "    </tr>\n",
       "    <tr>\n",
       "      <th>29</th>\n",
       "      <td>deepskyblue</td>\n",
       "      <td>#00BFFF</td>\n",
       "    </tr>\n",
       "    <tr>\n",
       "      <th>30</th>\n",
       "      <td>lightsteelblue</td>\n",
       "      <td>#B0C4DE</td>\n",
       "    </tr>\n",
       "    <tr>\n",
       "      <th>31</th>\n",
       "      <td>dodgerblue</td>\n",
       "      <td>#1E90FF</td>\n",
       "    </tr>\n",
       "  </tbody>\n",
       "</table>\n",
       "</div>"
      ],
      "text/plain": [
       "        Color Name Hex Code\n",
       "0      lightsalmon  #FFA07A\n",
       "1           salmon  #FA8072\n",
       "2       darksalmon  #E9967A\n",
       "3       lightcoral  #F08080\n",
       "4            coral  #FF7F50\n",
       "5           tomato  #FF6347\n",
       "6        orangered  #FF4500\n",
       "7             gold  #FFD700\n",
       "8           orange  #FFA500\n",
       "9       darkorange  #FF8C00\n",
       "10     lightyellow  #FFFFE0\n",
       "11    lemonchiffon  #FFFACD\n",
       "12      papayawhip  #FFEFD5\n",
       "13        moccasin  #FFE4B5\n",
       "14       peachpuff  #FFDAB9\n",
       "15   palegoldenrod  #EEE8AA\n",
       "16           khaki  #F0E68C\n",
       "17       darkkhaki  #BDB76B\n",
       "18          yellow  #FFFF00\n",
       "19       lawngreen  #7CFC00\n",
       "20      chartreuse  #7FFF00\n",
       "21       limegreen  #32CD32\n",
       "22            lime  #00FF00\n",
       "23     forestgreen  #228B22\n",
       "24           green  #008000\n",
       "25      powderblue  #B0E0E6\n",
       "26       lightblue  #ADD8E6\n",
       "27    lightskyblue  #87CEFA\n",
       "28         skyblue  #87CEEB\n",
       "29     deepskyblue  #00BFFF\n",
       "30  lightsteelblue  #B0C4DE\n",
       "31      dodgerblue  #1E90FF"
      ]
     },
     "execution_count": 52,
     "metadata": {},
     "output_type": "execute_result"
    }
   ],
   "source": [
    "import pandas as pd\n",
    "\n",
    "# Define the extracted color data as a dictionary\n",
    "color_data = {\n",
    "    \"Color Name\": [\n",
    "        \"lightsalmon\", \"salmon\", \"darksalmon\", \"lightcoral\", \"coral\", \"tomato\",\n",
    "        \"orangered\", \"gold\", \"orange\", \"darkorange\", \"lightyellow\", \"lemonchiffon\",\n",
    "        \"papayawhip\", \"moccasin\", \"peachpuff\", \"palegoldenrod\", \"khaki\", \"darkkhaki\",\n",
    "        \"yellow\", \"lawngreen\", \"chartreuse\", \"limegreen\", \"lime\", \"forestgreen\",\n",
    "        \"green\", \"powderblue\", \"lightblue\", \"lightskyblue\", \"skyblue\", \"deepskyblue\",\n",
    "        \"lightsteelblue\", \"dodgerblue\"\n",
    "    ],\n",
    "    \"Hex Code\": [\n",
    "        \"#FFA07A\", \"#FA8072\", \"#E9967A\", \"#F08080\", \"#FF7F50\", \"#FF6347\",\n",
    "        \"#FF4500\", \"#FFD700\", \"#FFA500\", \"#FF8C00\", \"#FFFFE0\", \"#FFFACD\",\n",
    "        \"#FFEFD5\", \"#FFE4B5\", \"#FFDAB9\", \"#EEE8AA\", \"#F0E68C\", \"#BDB76B\",\n",
    "        \"#FFFF00\", \"#7CFC00\", \"#7FFF00\", \"#32CD32\", \"#00FF00\", \"#228B22\",\n",
    "        \"#008000\", \"#B0E0E6\", \"#ADD8E6\", \"#87CEFA\", \"#87CEEB\", \"#00BFFF\",\n",
    "        \"#B0C4DE\", \"#1E90FF\"\n",
    "    ]\n",
    "}\n",
    "\n",
    "# Create a DataFrame\n",
    "df_colors = pd.DataFrame(color_data)\n",
    "\n",
    "# Save as CSV\n",
    "df_colors.to_csv('data/scraped_colors.csv', index=False)\n",
    "\n",
    "# Save as Excel\n",
    "df_colors.to_excel('data/scraped_colors.xlsx', index=False)\n",
    "\n",
    "print(\"Export completed: Data saved as CSV and Excel files inside 'data/' folder.\")\n",
    "\n",
    "# Display the table\n",
    "df_colors\n"
   ]
  },
  {
   "cell_type": "code",
   "execution_count": 48,
   "metadata": {},
   "outputs": [
    {
     "data": {
      "text/plain": [
       "'web_scraping_summary_chart.png'"
      ]
     },
     "execution_count": 48,
     "metadata": {},
     "output_type": "execute_result"
    }
   ],
   "source": [
    "import matplotlib.pyplot as plt\n",
    "\n",
    "# Data for bar chart\n",
    "categories = [\"Links Scraped\", \"Images Scraped\", \"Table Rows Scraped\"]\n",
    "counts = [12, 0, 32]  # 12 links, 0 images, 32 color rows\n",
    "\n",
    "# Create colorful bar chart\n",
    "plt.figure(figsize=(8, 5))\n",
    "bars = plt.bar(categories, counts)\n",
    "\n",
    "# Color bars\n",
    "for i, bar in enumerate(bars):\n",
    "    bar.set_color(plt.cm.Set1(i))\n",
    "\n",
    "# Chart details\n",
    "plt.title(\"Summary of Web Scraping Results\")\n",
    "plt.ylabel(\"Count\")\n",
    "plt.grid(axis='y', linestyle='--', alpha=0.7)\n",
    "plt.tight_layout()\n",
    "\n",
    "# Save the chart\n",
    "bar_chart_path = \"web_scraping_summary_chart.png\"\n",
    "plt.savefig(bar_chart_path)\n",
    "plt.close()\n",
    "\n",
    "bar_chart_path\n"
   ]
  },
  {
   "cell_type": "code",
   "execution_count": 46,
   "metadata": {},
   "outputs": [
    {
     "data": {
      "text/plain": [
       "'scraped_color_table_snapshot.png'"
      ]
     },
     "execution_count": 46,
     "metadata": {},
     "output_type": "execute_result"
    }
   ],
   "source": [
    "import pandas as pd\n",
    "import matplotlib.pyplot as plt\n",
    "\n",
    "# Sample data for Color Name vs Hex Code\n",
    "color_data = {\n",
    "    \"Color Name\": [\n",
    "        \"lightsalmon\", \"salmon\", \"darksalmon\", \"lightcoral\", \"coral\",\n",
    "        \"tomato\", \"orangered\", \"gold\", \"orange\", \"darkorange\",\n",
    "        \"lightyellow\", \"lemonchiffon\", \"papayawhip\", \"moccasin\", \"peachpuff\"\n",
    "    ],\n",
    "    \"Hex Code\": [\n",
    "        \"#FFA07A\", \"#FA8072\", \"#E9967A\", \"#F08080\", \"#FF7F50\",\n",
    "        \"#FF6347\", \"#FF4500\", \"#FFD700\", \"#FFA500\", \"#FF8C00\",\n",
    "        \"#FFFFE0\", \"#FFFACD\", \"#FFEFD5\", \"#FFE4B5\", \"#FFDAB9\"\n",
    "    ]\n",
    "}\n",
    "\n",
    "# Create DataFrame\n",
    "df_colors = pd.DataFrame(color_data)\n",
    "\n",
    "# Plot the table\n",
    "fig, ax = plt.subplots(figsize=(10, 6))\n",
    "ax.axis('off')\n",
    "table = ax.table(cellText=df_colors.values,\n",
    "                 colLabels=df_colors.columns,\n",
    "                 loc='center',\n",
    "                 cellLoc='center')\n",
    "\n",
    "table.auto_set_font_size(False)\n",
    "table.set_fontsize(10)\n",
    "table.auto_set_column_width([0, 1])\n",
    "\n",
    "# Save the table visual\n",
    "color_table_path = \"scraped_color_table_snapshot.png\"\n",
    "plt.savefig(color_table_path, bbox_inches='tight')\n",
    "plt.close()\n",
    "\n",
    "color_table_path\n"
   ]
  },
  {
   "cell_type": "code",
   "execution_count": 54,
   "metadata": {},
   "outputs": [
    {
     "name": "stdout",
     "output_type": "stream",
     "text": [
      "The notebook is located at: C:\\Users\\Ede\\Desktop\\IBM_Capstone_Data_Analyst_2025\\Module_1_Real_World_Projects\\Project_5_Web-Scraping\\Web-Scraping-Review-Lab.ipynb\n"
     ]
    }
   ],
   "source": [
    "import os\n",
    "\n",
    "# Get the absolute file path of the notebook file\n",
    "file_path = os.path.abspath(\"Web-Scraping-Review-Lab.ipynb\")\n",
    "print(\"The notebook is located at:\", file_path)"
   ]
  },
  {
   "cell_type": "code",
   "execution_count": 56,
   "metadata": {},
   "outputs": [
    {
     "name": "stdout",
     "output_type": "stream",
     "text": [
      "Notebook successfully converted to PDF: C:\\Users\\Ede\\Desktop\\IBM_Capstone_Data_Analyst_2025\\Module_1_Real_World_Projects\\Project_5_Web-Scraping\\Web-Scraping-Review-Lab.pdf\n"
     ]
    }
   ],
   "source": [
    "import nbconvert\n",
    "import nbformat\n",
    "import pdfkit\n",
    "\n",
    "# Corrected file paths (Using raw string notation or forward slashes)\n",
    "input_file_path = r\"C:\\Users\\Ede\\Desktop\\IBM_Capstone_Data_Analyst_2025\\Module_1_Real_World_Projects\\Project_5_Web-Scraping\\Web-Scraping-Review-Lab.ipynb\"\n",
    "output_pdf_path = r\"C:\\Users\\Ede\\Desktop\\IBM_Capstone_Data_Analyst_2025\\Module_1_Real_World_Projects\\Project_5_Web-Scraping\\Web-Scraping-Review-Lab.pdf\"\n",
    "\n",
    "# Load the Jupyter Notebook file\n",
    "with open(input_file_path, 'r', encoding='utf-8') as f:\n",
    "    notebook_content = nbformat.read(f, as_version=4)\n",
    "\n",
    "# Convert the notebook to HTML\n",
    "html_exporter = nbconvert.HTMLExporter()\n",
    "html_exporter.exclude_input = False  # Include code cells in the output\n",
    "(body, resources) = html_exporter.from_notebook_node(notebook_content)\n",
    "\n",
    "# Convert HTML to PDF\n",
    "pdfkit.from_string(body, output_pdf_path)\n",
    "\n",
    "# Return the PDF file path\n",
    "print(f\"Notebook successfully converted to PDF: {output_pdf_path}\")\n"
   ]
  },
  {
   "cell_type": "code",
   "execution_count": 58,
   "metadata": {},
   "outputs": [
    {
     "name": "stderr",
     "output_type": "stream",
     "text": [
      "[NbConvertApp] Converting notebook Web-Scraping-Review-Lab.ipynb to html\n",
      "[NbConvertApp] Writing 316882 bytes to Web-Scraping-Review-Lab.html\n"
     ]
    }
   ],
   "source": [
    "!jupyter nbconvert --to html \"Web-Scraping-Review-Lab.ipynb\""
   ]
  },
  {
   "cell_type": "markdown",
   "metadata": {},
   "source": [
    "# Congratulations to us for having successfully completed the above lab!\n",
    "# Authors: \n",
    "<h4>Kelechukwu Innocent Ede and Ramesh Sannareddy</h4>\n",
    "\n",
    "# Other Contributors:\n",
    "<ul>\n",
    "<li>Rav Ahuja</li>\n",
    "</ul>"
   ]
  },
  {
   "cell_type": "code",
   "execution_count": null,
   "metadata": {},
   "outputs": [],
   "source": []
  }
 ],
 "metadata": {
  "kernelspec": {
   "display_name": "Python 3 (ipykernel)",
   "language": "python",
   "name": "python3"
  },
  "language_info": {
   "codemirror_mode": {
    "name": "ipython",
    "version": 3
   },
   "file_extension": ".py",
   "mimetype": "text/x-python",
   "name": "python",
   "nbconvert_exporter": "python",
   "pygments_lexer": "ipython3",
   "version": "3.11.7"
  },
  "prev_pub_hash": "47f9ffc1b763f98e682ac3a01d2e9180987012a5e050cb2d84fe1df3c67f42fb"
 },
 "nbformat": 4,
 "nbformat_minor": 4
}
