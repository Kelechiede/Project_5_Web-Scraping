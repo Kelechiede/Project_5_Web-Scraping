{
 "cells": [
  {
   "cell_type": "markdown",
   "id": "26392092",
   "metadata": {},
   "source": [
    "# 🕸️ Web Scraping Project – IBM Data Analyst Capstone\n",
    "\n",
    "This project demonstrates how to:\n",
    "- Download webpages\n",
    "- Scrape hyperlinks and images\n",
    "- Extract tabular data\n",
    "\n",
    "---\n"
   ]
  },
  {
   "cell_type": "markdown",
   "id": "401f9aa2",
   "metadata": {},
   "source": [
    "# **Case Study: Web Scraping Lab**\n",
    "\n",
    "# Objectives\n",
    "After completing this lab we will be able to:\n",
    "\n",
    "<ul>\n",
    "<li>Download a webpage using requests module.</li>\n",
    "<li>Scrape all links from a webpage.</li>\n",
    "<li>Scrape all image URLs from a web page.</li>\n",
    "<li>Scrape data from html tables.</li>\n",
    "</ul>"
   ]
  },
  {
   "cell_type": "markdown",
   "id": "2f094c89",
   "metadata": {},
   "source": [
    "## Scrape www.ibm.com\n"
   ]
  },
  {
   "cell_type": "markdown",
   "id": "5c0d3144",
   "metadata": {},
   "source": [
    "Import the required modules and functions\n"
   ]
  },
  {
   "cell_type": "code",
   "execution_count": null,
   "id": "377f7d58",
   "metadata": {},
   "outputs": [],
   "source": [
    "from bs4 import BeautifulSoup # this module helps in web scrapping.\n",
    "import requests  # this module helps us to download a webpage\n",
    "\n",
    "print(soup.prettify()[:500])  # Preview first 500 characters of parsed HTML"
   ]
  },
  {
   "cell_type": "markdown",
   "id": "7897d764",
   "metadata": {},
   "source": [
    "Download the contents of the webpage\n"
   ]
  },
  {
   "cell_type": "code",
   "execution_count": null,
   "id": "0d687f77",
   "metadata": {},
   "outputs": [],
   "source": [
    "url = \"http://www.ibm.com\""
   ]
  },
  {
   "cell_type": "code",
   "execution_count": null,
   "id": "d15195b8",
   "metadata": {},
   "outputs": [],
   "source": [
    "# get the contents of the webpage in text format and store in a variable called data\n",
    "data  = requests.get(url).text \n",
    "\n",
    "print(response.status_code)  # Confirm successful download (200 OK)"
   ]
  },
  {
   "cell_type": "markdown",
   "id": "43fe4f4d",
   "metadata": {},
   "source": [
    "Create a soup object using the class BeautifulSoup\n"
   ]
  },
  {
   "cell_type": "code",
   "execution_count": null,
   "id": "e2fe855d",
   "metadata": {},
   "outputs": [],
   "source": [
    "soup = BeautifulSoup(data,\"html.parser\")  # create a soup object using the variable 'data'\n",
    "\n",
    "print(soup.prettify()[:500])  # Preview first 500 characters of parsed HTML"
   ]
  },
  {
   "cell_type": "markdown",
   "id": "b0d7c3f6",
   "metadata": {},
   "source": [
    "Scrape all links\n"
   ]
  },
  {
   "cell_type": "code",
   "execution_count": null,
   "id": "ae040e40",
   "metadata": {},
   "outputs": [],
   "source": [
    "for link in soup.find_all('a'):  # in html anchor/link is represented by the tag <a>\n",
    "    print(link.get('href'))\n",
    "\n",
    "print(f\"Number of links found: {len(links)}\")"
   ]
  },
  {
   "cell_type": "markdown",
   "id": "33273c03",
   "metadata": {},
   "source": [
    "Scrape  all images\n"
   ]
  },
  {
   "cell_type": "code",
   "execution_count": null,
   "id": "3b9d7338",
   "metadata": {},
   "outputs": [],
   "source": [
    "for link in soup.find_all('img'):# in html image is represented by the tag <img>\n",
    "    print(link.get('src'))\n",
    "\n",
    "print(f\"Number of links found: {len(links)}\")\n",
    "\n",
    "print(f\"Number of images found: {len(images)}\")"
   ]
  },
  {
   "cell_type": "markdown",
   "id": "8088c868",
   "metadata": {},
   "source": [
    "## Scrape data from html tables\n"
   ]
  },
  {
   "cell_type": "code",
   "execution_count": null,
   "id": "f0891278",
   "metadata": {},
   "outputs": [],
   "source": [
    "#The below URL contains a html table with data about colors and color codes.\n",
    "URL = \"https://cf-courses-data.s3.us.cloud-object-storage.appdomain.cloud/IBM-DA0321EN-SkillsNetwork/labs/datasets/HTMLColorCodes.html\""
   ]
  },
  {
   "cell_type": "markdown",
   "id": "94cc037f",
   "metadata": {},
   "source": [
    "Before proceeding to scrape a website, you need to examine the contents, and the way data is organized on the website. Open the above URL in your browser and check how many rows and columns are there in the color table.\n"
   ]
  },
  {
   "cell_type": "code",
   "execution_count": null,
   "id": "a0849a0b",
   "metadata": {},
   "outputs": [],
   "source": [
    "# get the contents of the webpage in text format and store in a variable called data\n",
    "data  = requests.get(URL).text\n",
    "\n",
    "print(response.status_code)  # Confirm successful download (200 OK)"
   ]
  },
  {
   "cell_type": "code",
   "execution_count": null,
   "id": "b7f319b3",
   "metadata": {},
   "outputs": [],
   "source": [
    "soup = BeautifulSoup(data,\"html.parser\")\n",
    "\n",
    "print(soup.prettify()[:500])  # Preview first 500 characters of parsed HTML"
   ]
  },
  {
   "cell_type": "code",
   "execution_count": null,
   "id": "8e6a3bad",
   "metadata": {},
   "outputs": [],
   "source": [
    "#find a html table in the web page\n",
    "table = soup.find('table') # in html table is represented by the tag <table>"
   ]
  },
  {
   "cell_type": "markdown",
   "id": "ce737166",
   "metadata": {},
   "source": [
    "# Get all rows from the table\n"
   ]
  },
  {
   "cell_type": "code",
   "execution_count": null,
   "id": "9c1108b5",
   "metadata": {},
   "outputs": [],
   "source": [
    "for row in table.find_all('tr'): # in html table row is represented by the tag <tr>\n",
    "    # Get all columns in each row.\n",
    "    cols = row.find_all('td') # in html a column is represented by the tag <td>\n",
    "    color_name = cols[2].getText() # store the value in column 3 as color_name\n",
    "    color_code = cols[3].getText() # store the value in column 4 as color_code\n",
    "    print(\"{}--->{}\".format(color_name,color_code))\n",
    "\n",
    "print(f\"Number of links found: {len(links)}\")"
   ]
  },
  {
   "cell_type": "code",
   "execution_count": null,
   "id": "52ddedc6",
   "metadata": {},
   "outputs": [],
   "source": []
  },
  {
   "cell_type": "code",
   "execution_count": null,
   "id": "c9d121f5",
   "metadata": {},
   "outputs": [],
   "source": [
    "import pandas as pd\n",
    "\n",
    "# Define the extracted color data as a dictionary\n",
    "color_data = {\n",
    "    \"Color Name\": [\n",
    "        \"lightsalmon\", \"salmon\", \"darksalmon\", \"lightcoral\", \"coral\", \"tomato\",\n",
    "        \"orangered\", \"gold\", \"orange\", \"darkorange\", \"lightyellow\", \"lemonchiffon\",\n",
    "        \"papayawhip\", \"moccasin\", \"peachpuff\", \"palegoldenrod\", \"khaki\", \"darkkhaki\",\n",
    "        \"yellow\", \"lawngreen\", \"chartreuse\", \"limegreen\", \"lime\", \"forestgreen\",\n",
    "        \"green\", \"powderblue\", \"lightblue\", \"lightskyblue\", \"skyblue\", \"deepskyblue\",\n",
    "        \"lightsteelblue\", \"dodgerblue\"\n",
    "    ],\n",
    "    \"Hex Code\": [\n",
    "        \"#FFA07A\", \"#FA8072\", \"#E9967A\", \"#F08080\", \"#FF7F50\", \"#FF6347\",\n",
    "        \"#FF4500\", \"#FFD700\", \"#FFA500\", \"#FF8C00\", \"#FFFFE0\", \"#FFFACD\",\n",
    "        \"#FFEFD5\", \"#FFE4B5\", \"#FFDAB9\", \"#EEE8AA\", \"#F0E68C\", \"#BDB76B\",\n",
    "        \"#FFFF00\", \"#7CFC00\", \"#7FFF00\", \"#32CD32\", \"#00FF00\", \"#228B22\",\n",
    "        \"#008000\", \"#B0E0E6\", \"#ADD8E6\", \"#87CEFA\", \"#87CEEB\", \"#00BFFF\",\n",
    "        \"#B0C4DE\", \"#1E90FF\"\n",
    "    ]\n",
    "}\n",
    "\n",
    "# Create a DataFrame\n",
    "df_colors = pd.DataFrame(color_data)\n",
    "\n",
    "# Display the table\n",
    "df_colors\n"
   ]
  },
  {
   "cell_type": "code",
   "execution_count": null,
   "id": "37f156f1",
   "metadata": {},
   "outputs": [],
   "source": [
    "import os\n",
    "\n",
    "# Get the absolute file path of the notebook file\n",
    "file_path = os.path.abspath(\"Web-Scraping-Review-Lab.ipynb\")\n",
    "print(\"The notebook is located at:\", file_path)"
   ]
  },
  {
   "cell_type": "code",
   "execution_count": null,
   "id": "52d6866b",
   "metadata": {},
   "outputs": [],
   "source": [
    "import nbconvert\n",
    "import nbformat\n",
    "import pdfkit\n",
    "\n",
    "# Corrected file paths (Using raw string notation or forward slashes)\n",
    "input_file_path = r\"C:\\Users\\Ede\\Desktop\\IBM_Coursera_Data_Analyst_Projects\\CapStoneProjects\\module1\\Web-Scraping-Review-Lab.ipynb\"\n",
    "output_pdf_path = r\"C:\\Users\\Ede\\Desktop\\IBM_Coursera_Data_Analyst_Projects\\CapStoneProjects\\module1\\Web-Scraping-Review-Lab.pdf\"\n",
    "\n",
    "# Load the Jupyter Notebook file\n",
    "with open(input_file_path, 'r', encoding='utf-8') as f:\n",
    "    notebook_content = nbformat.read(f, as_version=4)\n",
    "\n",
    "# Convert the notebook to HTML\n",
    "html_exporter = nbconvert.HTMLExporter()\n",
    "html_exporter.exclude_input = False  # Include code cells in the output\n",
    "(body, resources) = html_exporter.from_notebook_node(notebook_content)\n",
    "\n",
    "# Convert HTML to PDF\n",
    "pdfkit.from_string(body, output_pdf_path)\n",
    "\n",
    "# Return the PDF file path\n",
    "print(f\"Notebook successfully converted to PDF: {output_pdf_path}\")\n"
   ]
  },
  {
   "cell_type": "code",
   "execution_count": null,
   "id": "1eb50026",
   "metadata": {},
   "outputs": [],
   "source": [
    "!jupyter nbconvert --to html \"Web-Scraping-Review-Lab.ipynb\""
   ]
  },
  {
   "cell_type": "markdown",
   "id": "53520cde",
   "metadata": {},
   "source": [
    "# Congratulations to us for having successfully completed the above lab!\n",
    "# Authors: \n",
    "<h4>Kelechukwu Innocent Ede and Ramesh Sannareddy</h4>\n",
    "\n",
    "# Other Contributors:\n",
    "<ul>\n",
    "<li>Rav Ahuja</li>\n",
    "</ul>"
   ]
  },
  {
   "cell_type": "code",
   "execution_count": null,
   "id": "3c8cb236",
   "metadata": {},
   "outputs": [],
   "source": []
  }
 ],
 "metadata": {
  "kernelspec": {
   "display_name": "Python 3 (ipykernel)",
   "language": "python",
   "name": "python3"
  },
  "language_info": {
   "codemirror_mode": {
    "name": "ipython",
    "version": 3
   },
   "file_extension": ".py",
   "mimetype": "text/x-python",
   "name": "python",
   "nbconvert_exporter": "python",
   "pygments_lexer": "ipython3",
   "version": "3.11.7"
  },
  "prev_pub_hash": "47f9ffc1b763f98e682ac3a01d2e9180987012a5e050cb2d84fe1df3c67f42fb"
 },
 "nbformat": 4,
 "nbformat_minor": 5
}
